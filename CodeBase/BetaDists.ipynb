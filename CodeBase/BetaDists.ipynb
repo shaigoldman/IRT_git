{
 "cells": [
  {
   "cell_type": "markdown",
   "id": "cde4957a-21e8-475b-b9e0-65eb59434077",
   "metadata": {},
   "source": [
    "## Get Distributions of Beta Values for IRT Models\n",
    "\n",
    "Used to Generate Fig 3"
   ]
  },
  {
   "cell_type": "code",
   "execution_count": 1,
   "id": "519fd1cf-e73b-480f-a4df-e8f99bf08abc",
   "metadata": {
    "tags": []
   },
   "outputs": [
    {
     "name": "stdout",
     "output_type": "stream",
     "text": [
      "No w2v was able to load\n"
     ]
    }
   ],
   "source": [
    "import os\n",
    "import numpy as np\n",
    "import pandas as pd\n",
    "import scipy.stats\n",
    "from tqdm.notebook import tqdm\n",
    "from glob import glob\n",
    "from matplotlib import pyplot as plt\n",
    "\n",
    "import Regressions as reg\n",
    "import DataBuild as db"
   ]
  },
  {
   "cell_type": "code",
   "execution_count": 2,
   "id": "d879d677-f28d-45ac-ba53-7e39aa98a9dc",
   "metadata": {},
   "outputs": [],
   "source": [
    "BETAS_ORDER = ['output_pos', 'total_recalls', 'lag',\n",
    "             'sem', 'session', 'lag_sem', 'irt-1', 'irt-2']"
   ]
  },
  {
   "cell_type": "code",
   "execution_count": 4,
   "id": "0401fe43-0743-4dac-bb39-ce52320463af",
   "metadata": {},
   "outputs": [],
   "source": [
    "sd = 3"
   ]
  },
  {
   "cell_type": "code",
   "execution_count": 3,
   "id": "8f884bbd-e6e9-413e-8149-4c9241ea29d8",
   "metadata": {},
   "outputs": [],
   "source": [
    "def abbrv(beta):\n",
    "    \"\"\"returns abbreviated name for beta param\"\"\"\n",
    "    if beta == 'session': return 'SESS'\n",
    "    if beta == 'lag': return 'LAG'\n",
    "    if beta == 'sem': return 'SIM'\n",
    "    if beta == 'total_recalls': return 'R'\n",
    "    if beta == 'lag_sem': return 'SIMxLAG'\n",
    "    if beta == 'output_pos': return 'OP'\n",
    "    if beta == 'irt-1': return 'IRT₋₁'\n",
    "    if beta == 'irt-2': return 'IRT₋₂'\n",
    "    return beta"
   ]
  },
  {
   "cell_type": "code",
   "execution_count": 5,
   "id": "a1b1d0cc-5b27-422b-bc29-0feb7031c3c0",
   "metadata": {
    "tags": []
   },
   "outputs": [],
   "source": [
    "def get_betas(subjs, **kwargs):\n",
    "    \"\"\"Returns all betas, pvals and r^2s for the subjects given. \"\"\"\n",
    "    \n",
    "    r2s = []\n",
    "    betas = pd.DataFrame()\n",
    "    pvals = pd.DataFrame()\n",
    "\n",
    "    for subject in tqdm(subjs):\n",
    "        model = reg.get_model(subject=subject, **kwargs)\n",
    "        betas[subject] = model.params\n",
    "        pvals[subject] = model.pvalues\n",
    "        r2s.append(model.rsquared)\n",
    "    betas = betas.transpose()\n",
    "    pvals = pvals.transpose()\n",
    "    return betas, pvals, r2s"
   ]
  },
  {
   "cell_type": "code",
   "execution_count": 12,
   "id": "5816d8cc-b476-4645-a564-ba711c42fb04",
   "metadata": {},
   "outputs": [],
   "source": [
    "def relabel_betas(betas, pvals):\n",
    "    order = ['output_pos', 'total_recalls', 'lag',\n",
    "             'sem', 'lag_sem', 'irt-1', 'irt-2', 'session']\n",
    "    for i in [betas, pvals]:\n",
    "        i.pop('const')\n",
    "        for key in order:\n",
    "            if not key in i:\n",
    "                continue\n",
    "            i[abbrv(key)] = i.pop(key)\n",
    "    return betas, pvals"
   ]
  },
  {
   "cell_type": "code",
   "execution_count": 7,
   "id": "45e6600d-a7dc-4d80-8b7b-65b7f072d2ef",
   "metadata": {},
   "outputs": [],
   "source": [
    "def display_results(betas, r2s):\n",
    "    results = pd.DataFrame()\n",
    "    results['mean'] = betas.mean().round(sd)\n",
    "    results['pval'] = scipy.stats.ttest_1samp(betas, 0).pvalue\n",
    "    results['CI'] = (1.96 * betas.sem()).round(sd)\n",
    "    r2 = pd.Series([np.mean(r2s), scipy.stats.sem(r2s)], name='R^2', index=['mean', 'CI']).round(sd)\n",
    "    results = results.append(r2)\n",
    "\n",
    "    display(results)"
   ]
  },
  {
   "cell_type": "code",
   "execution_count": 8,
   "id": "40adb7b4-589f-4ec0-8b17-62c0d0389798",
   "metadata": {},
   "outputs": [],
   "source": [
    "def beta_plot(axes, betas, pvals, hide_ylabels=False, title=\"\"):\n",
    "    axes.axhline(0, color='k', linestyle='--', zorder=1)\n",
    "\n",
    "    for i, col in enumerate(betas.columns):\n",
    "        colors = [(0,0,0) if p < 0.05 else (1,1,1)\n",
    "                  for p in pvals[col]]\n",
    "        axes.scatter([i]*len(betas), betas[col], c=colors, edgecolor='k', zorder=10, s=20)\n",
    "        axes.plot([i-.2,i+.2], [betas[col].mean()]*2, color='k', linewidth=3)\n",
    "    axes.set_xticks(range(len(betas.columns)))\n",
    "    axes.set_xticklabels(betas.columns, rotation=60, ha='right', fontsize=20)\n",
    "    \n",
    "    if hide_ylabels:\n",
    "        axes.set_yticks([])\n",
    "    else:\n",
    "        yticks = np.round(np.arange(-.2,.9, .2), 1)\n",
    "        axes.set_yticks(yticks)\n",
    "        axes.set_yticklabels(yticks, fontsize=16)\n",
    "        axes.set_ylabel('Z(Beta Coeficient)', fontsize=20)\n",
    "    \n",
    "    axes.set_ylim((-.4, .8))\n",
    "    axes.set_title(title, fontsize=20)"
   ]
  },
  {
   "cell_type": "code",
   "execution_count": 13,
   "id": "232304ea-871c-4c5b-ba85-a9aea4ac3a3a",
   "metadata": {},
   "outputs": [
    {
     "data": {
      "application/vnd.jupyter.widget-view+json": {
       "model_id": "bbd47c29751744ad9521e151a984b3d2",
       "version_major": 2,
       "version_minor": 0
      },
      "text/plain": [
       "HBox(children=(FloatProgress(value=0.0, max=98.0), HTML(value='')))"
      ]
     },
     "metadata": {},
     "output_type": "display_data"
    },
    {
     "name": "stdout",
     "output_type": "stream",
     "text": [
      "\n"
     ]
    },
    {
     "data": {
      "application/vnd.jupyter.widget-view+json": {
       "model_id": "5406d105ecba450a8f4f2616751ca254",
       "version_major": 2,
       "version_minor": 0
      },
      "text/plain": [
       "HBox(children=(FloatProgress(value=0.0, max=98.0), HTML(value='')))"
      ]
     },
     "metadata": {},
     "output_type": "display_data"
    },
    {
     "name": "stdout",
     "output_type": "stream",
     "text": [
      "\n"
     ]
    },
    {
     "data": {
      "application/vnd.jupyter.widget-view+json": {
       "model_id": "c919d7e748e9407fad9587815daf9d53",
       "version_major": 2,
       "version_minor": 0
      },
      "text/plain": [
       "HBox(children=(FloatProgress(value=0.0, max=98.0), HTML(value='')))"
      ]
     },
     "metadata": {},
     "output_type": "display_data"
    },
    {
     "name": "stdout",
     "output_type": "stream",
     "text": [
      "\n"
     ]
    },
    {
     "data": {
      "image/png": "[encoded data removed]",
      "text/plain": [
       "<Figure size 1080x576 with 3 Axes>"
      ]
     },
     "metadata": {
      "needs_background": "light"
     },
     "output_type": "display_data"
    }
   ],
   "source": [
    "subjs = db.get_subjs()\n",
    "\n",
    "fig, axes = plt.subplots(figsize=(15,8), ncols=3, gridspec_kw={'width_ratios': [4, 4.5, 5]})\n",
    "\n",
    "hide_ylabels = False\n",
    "for i, ax in enumerate(axes):\n",
    "    betas, pvals, r2s = get_betas(subjs, model_num=i+1)\n",
    "    relabel_betas(betas, pvals)\n",
    "    beta_plot(ax, betas, pvals, hide_ylabels=hide_ylabels, title=f'Model {i+1}')\n",
    "    hide_ylabels = True\n",
    "fig.tight_layout()\n",
    "fig.savefig('all_betas.pdf')"
   ]
  },
  {
   "cell_type": "code",
   "execution_count": 14,
   "id": "198c2443-f496-4bfa-9a1b-8bda1a5cc8a3",
   "metadata": {},
   "outputs": [
    {
     "data": {
      "application/vnd.jupyter.widget-view+json": {
       "model_id": "8723d0ac5de94e17b2a37df07b44fe06",
       "version_major": 2,
       "version_minor": 0
      },
      "text/plain": [
       "HBox(children=(FloatProgress(value=0.0, max=98.0), HTML(value='')))"
      ]
     },
     "metadata": {},
     "output_type": "display_data"
    },
    {
     "name": "stdout",
     "output_type": "stream",
     "text": [
      "\n",
      "MODEL 1\n"
     ]
    },
    {
     "data": {
      "text/html": [
       "<div>\n",
       "<style scoped>\n",
       "    .dataframe tbody tr th:only-of-type {\n",
       "        vertical-align: middle;\n",
       "    }\n",
       "\n",
       "    .dataframe tbody tr th {\n",
       "        vertical-align: top;\n",
       "    }\n",
       "\n",
       "    .dataframe thead th {\n",
       "        text-align: right;\n",
       "    }\n",
       "</style>\n",
       "<table border=\"1\" class=\"dataframe\">\n",
       "  <thead>\n",
       "    <tr style=\"text-align: right;\">\n",
       "      <th></th>\n",
       "      <th>mean</th>\n",
       "      <th>pval</th>\n",
       "      <th>CI</th>\n",
       "    </tr>\n",
       "  </thead>\n",
       "  <tbody>\n",
       "    <tr>\n",
       "      <th>OP</th>\n",
       "      <td>0.177</td>\n",
       "      <td>1.325407e-29</td>\n",
       "      <td>0.021</td>\n",
       "    </tr>\n",
       "    <tr>\n",
       "      <th>R</th>\n",
       "      <td>-0.100</td>\n",
       "      <td>3.015587e-18</td>\n",
       "      <td>0.018</td>\n",
       "    </tr>\n",
       "    <tr>\n",
       "      <th>LAG</th>\n",
       "      <td>0.400</td>\n",
       "      <td>3.205356e-60</td>\n",
       "      <td>0.021</td>\n",
       "    </tr>\n",
       "    <tr>\n",
       "      <th>SIM</th>\n",
       "      <td>-0.131</td>\n",
       "      <td>3.910270e-38</td>\n",
       "      <td>0.012</td>\n",
       "    </tr>\n",
       "    <tr>\n",
       "      <th>SIMxLAG</th>\n",
       "      <td>-0.096</td>\n",
       "      <td>2.071475e-33</td>\n",
       "      <td>0.010</td>\n",
       "    </tr>\n",
       "    <tr>\n",
       "      <th>R^2</th>\n",
       "      <td>0.215</td>\n",
       "      <td>NaN</td>\n",
       "      <td>0.007</td>\n",
       "    </tr>\n",
       "  </tbody>\n",
       "</table>\n",
       "</div>"
      ],
      "text/plain": [
       "          mean          pval     CI\n",
       "OP       0.177  1.325407e-29  0.021\n",
       "R       -0.100  3.015587e-18  0.018\n",
       "LAG      0.400  3.205356e-60  0.021\n",
       "SIM     -0.131  3.910270e-38  0.012\n",
       "SIMxLAG -0.096  2.071475e-33  0.010\n",
       "R^2      0.215           NaN  0.007"
      ]
     },
     "metadata": {},
     "output_type": "display_data"
    },
    {
     "data": {
      "application/vnd.jupyter.widget-view+json": {
       "model_id": "7bcca538320b41a78c7cb4ebb0e770eb",
       "version_major": 2,
       "version_minor": 0
      },
      "text/plain": [
       "HBox(children=(FloatProgress(value=0.0, max=98.0), HTML(value='')))"
      ]
     },
     "metadata": {},
     "output_type": "display_data"
    },
    {
     "name": "stdout",
     "output_type": "stream",
     "text": [
      "\n",
      "MODEL 2\n"
     ]
    },
    {
     "data": {
      "text/html": [
       "<div>\n",
       "<style scoped>\n",
       "    .dataframe tbody tr th:only-of-type {\n",
       "        vertical-align: middle;\n",
       "    }\n",
       "\n",
       "    .dataframe tbody tr th {\n",
       "        vertical-align: top;\n",
       "    }\n",
       "\n",
       "    .dataframe thead th {\n",
       "        text-align: right;\n",
       "    }\n",
       "</style>\n",
       "<table border=\"1\" class=\"dataframe\">\n",
       "  <thead>\n",
       "    <tr style=\"text-align: right;\">\n",
       "      <th></th>\n",
       "      <th>mean</th>\n",
       "      <th>pval</th>\n",
       "      <th>CI</th>\n",
       "    </tr>\n",
       "  </thead>\n",
       "  <tbody>\n",
       "    <tr>\n",
       "      <th>OP</th>\n",
       "      <td>0.141</td>\n",
       "      <td>1.514350e-31</td>\n",
       "      <td>0.016</td>\n",
       "    </tr>\n",
       "    <tr>\n",
       "      <th>R</th>\n",
       "      <td>-0.087</td>\n",
       "      <td>6.381210e-19</td>\n",
       "      <td>0.015</td>\n",
       "    </tr>\n",
       "    <tr>\n",
       "      <th>LAG</th>\n",
       "      <td>0.407</td>\n",
       "      <td>1.476684e-60</td>\n",
       "      <td>0.021</td>\n",
       "    </tr>\n",
       "    <tr>\n",
       "      <th>SIM</th>\n",
       "      <td>-0.136</td>\n",
       "      <td>4.687733e-39</td>\n",
       "      <td>0.012</td>\n",
       "    </tr>\n",
       "    <tr>\n",
       "      <th>SIMxLAG</th>\n",
       "      <td>-0.097</td>\n",
       "      <td>2.849408e-33</td>\n",
       "      <td>0.010</td>\n",
       "    </tr>\n",
       "    <tr>\n",
       "      <th>IRT₋₁</th>\n",
       "      <td>0.102</td>\n",
       "      <td>3.522982e-26</td>\n",
       "      <td>0.014</td>\n",
       "    </tr>\n",
       "    <tr>\n",
       "      <th>IRT₋₂</th>\n",
       "      <td>0.093</td>\n",
       "      <td>2.701623e-35</td>\n",
       "      <td>0.009</td>\n",
       "    </tr>\n",
       "    <tr>\n",
       "      <th>R^2</th>\n",
       "      <td>0.244</td>\n",
       "      <td>NaN</td>\n",
       "      <td>0.006</td>\n",
       "    </tr>\n",
       "  </tbody>\n",
       "</table>\n",
       "</div>"
      ],
      "text/plain": [
       "          mean          pval     CI\n",
       "OP       0.141  1.514350e-31  0.016\n",
       "R       -0.087  6.381210e-19  0.015\n",
       "LAG      0.407  1.476684e-60  0.021\n",
       "SIM     -0.136  4.687733e-39  0.012\n",
       "SIMxLAG -0.097  2.849408e-33  0.010\n",
       "IRT₋₁    0.102  3.522982e-26  0.014\n",
       "IRT₋₂    0.093  2.701623e-35  0.009\n",
       "R^2      0.244           NaN  0.006"
      ]
     },
     "metadata": {},
     "output_type": "display_data"
    },
    {
     "data": {
      "application/vnd.jupyter.widget-view+json": {
       "model_id": "27bf3fcd350e4082bd5a75911be80f37",
       "version_major": 2,
       "version_minor": 0
      },
      "text/plain": [
       "HBox(children=(FloatProgress(value=0.0, max=98.0), HTML(value='')))"
      ]
     },
     "metadata": {},
     "output_type": "display_data"
    },
    {
     "name": "stdout",
     "output_type": "stream",
     "text": [
      "\n",
      "MODEL 3\n"
     ]
    },
    {
     "data": {
      "text/html": [
       "<div>\n",
       "<style scoped>\n",
       "    .dataframe tbody tr th:only-of-type {\n",
       "        vertical-align: middle;\n",
       "    }\n",
       "\n",
       "    .dataframe tbody tr th {\n",
       "        vertical-align: top;\n",
       "    }\n",
       "\n",
       "    .dataframe thead th {\n",
       "        text-align: right;\n",
       "    }\n",
       "</style>\n",
       "<table border=\"1\" class=\"dataframe\">\n",
       "  <thead>\n",
       "    <tr style=\"text-align: right;\">\n",
       "      <th></th>\n",
       "      <th>mean</th>\n",
       "      <th>pval</th>\n",
       "      <th>CI</th>\n",
       "    </tr>\n",
       "  </thead>\n",
       "  <tbody>\n",
       "    <tr>\n",
       "      <th>OP</th>\n",
       "      <td>0.148</td>\n",
       "      <td>3.729630e-32</td>\n",
       "      <td>0.016</td>\n",
       "    </tr>\n",
       "    <tr>\n",
       "      <th>R</th>\n",
       "      <td>-0.090</td>\n",
       "      <td>8.437234e-20</td>\n",
       "      <td>0.015</td>\n",
       "    </tr>\n",
       "    <tr>\n",
       "      <th>LAG</th>\n",
       "      <td>0.400</td>\n",
       "      <td>2.148533e-60</td>\n",
       "      <td>0.020</td>\n",
       "    </tr>\n",
       "    <tr>\n",
       "      <th>SIM</th>\n",
       "      <td>-0.138</td>\n",
       "      <td>4.029091e-40</td>\n",
       "      <td>0.012</td>\n",
       "    </tr>\n",
       "    <tr>\n",
       "      <th>SIMxLAG</th>\n",
       "      <td>-0.095</td>\n",
       "      <td>4.277325e-33</td>\n",
       "      <td>0.010</td>\n",
       "    </tr>\n",
       "    <tr>\n",
       "      <th>IRT₋₁</th>\n",
       "      <td>0.085</td>\n",
       "      <td>2.093016e-22</td>\n",
       "      <td>0.013</td>\n",
       "    </tr>\n",
       "    <tr>\n",
       "      <th>IRT₋₂</th>\n",
       "      <td>0.076</td>\n",
       "      <td>2.225660e-32</td>\n",
       "      <td>0.008</td>\n",
       "    </tr>\n",
       "    <tr>\n",
       "      <th>SESS</th>\n",
       "      <td>-0.094</td>\n",
       "      <td>6.413342e-24</td>\n",
       "      <td>0.014</td>\n",
       "    </tr>\n",
       "    <tr>\n",
       "      <th>R^2</th>\n",
       "      <td>0.255</td>\n",
       "      <td>NaN</td>\n",
       "      <td>0.006</td>\n",
       "    </tr>\n",
       "  </tbody>\n",
       "</table>\n",
       "</div>"
      ],
      "text/plain": [
       "          mean          pval     CI\n",
       "OP       0.148  3.729630e-32  0.016\n",
       "R       -0.090  8.437234e-20  0.015\n",
       "LAG      0.400  2.148533e-60  0.020\n",
       "SIM     -0.138  4.029091e-40  0.012\n",
       "SIMxLAG -0.095  4.277325e-33  0.010\n",
       "IRT₋₁    0.085  2.093016e-22  0.013\n",
       "IRT₋₂    0.076  2.225660e-32  0.008\n",
       "SESS    -0.094  6.413342e-24  0.014\n",
       "R^2      0.255           NaN  0.006"
      ]
     },
     "metadata": {},
     "output_type": "display_data"
    }
   ],
   "source": [
    "for i in range(3):\n",
    "    betas, pvals, r2s = get_betas(subjs, model_num=i+1)\n",
    "    relabel_betas(betas, pvals)\n",
    "    print(f'MODEL {i+1}')\n",
    "    display_results(betas, r2s)"
   ]
  },
  {
   "cell_type": "code",
   "execution_count": null,
   "id": "d0800f3f-39f0-4156-b67f-a07171acc547",
   "metadata": {},
   "outputs": [],
   "source": []
  }
 ],
 "metadata": {
  "kernelspec": {
   "display_name": "py3_env",
   "language": "python",
   "name": "py3_env"
  },
  "language_info": {
   "codemirror_mode": {
    "name": "ipython",
    "version": 3
   },
   "file_extension": ".py",
   "mimetype": "text/x-python",
   "name": "python",
   "nbconvert_exporter": "python",
   "pygments_lexer": "ipython3",
   "version": "3.6.10"
  }
 },
 "nbformat": 4,
 "nbformat_minor": 5
}
