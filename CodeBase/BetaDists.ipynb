{
 "cells": [
  {
   "cell_type": "markdown",
   "id": "cde4957a-21e8-475b-b9e0-65eb59434077",
   "metadata": {},
   "source": [
    "## Get Distributions of Beta Values for IRT Models"
   ]
  },
  {
   "cell_type": "code",
   "execution_count": 1,
   "id": "519fd1cf-e73b-480f-a4df-e8f99bf08abc",
   "metadata": {
    "tags": []
   },
   "outputs": [
    {
     "name": "stdout",
     "output_type": "stream",
     "text": [
      "No w2v was able to load\n"
     ]
    }
   ],
   "source": [
    "import os\n",
    "import numpy as np\n",
    "import pandas as pd\n",
    "import scipy.stats\n",
    "from tqdm.notebook import tqdm\n",
    "from glob import glob\n",
    "from matplotlib import pyplot as plt\n",
    "\n",
    "import Regressions as reg\n",
    "import DataBuild as db"
   ]
  },
  {
   "cell_type": "code",
   "execution_count": 2,
   "id": "d879d677-f28d-45ac-ba53-7e39aa98a9dc",
   "metadata": {},
   "outputs": [],
   "source": [
    "ON_RHINO = False\n",
    "BETAS_ORDER = ['output_pos', 'total_recalls', 'lag',\n",
    "             'sem', 'session', 'lag_sem', 'irt-1', 'irt-2']"
   ]
  },
  {
   "cell_type": "code",
   "execution_count": 3,
   "id": "8f884bbd-e6e9-413e-8149-4c9241ea29d8",
   "metadata": {},
   "outputs": [],
   "source": [
    "def abbrv(beta):\n",
    "    if beta == 'session': return 'SESS'\n",
    "    if beta == 'lag': return 'LAG'\n",
    "    if beta == 'sem': return 'SIM'\n",
    "    if beta == 'total_recalls': return 'R'\n",
    "    if beta == 'lag_sem': return 'SIMxLAG'\n",
    "    if beta == 'output_pos': return 'OP'\n",
    "    if beta == 'irt-1': return 'IRT₋₁'\n",
    "    if beta == 'irt-2': return 'IRT₋₂'\n",
    "    return beta"
   ]
  },
  {
   "cell_type": "code",
   "execution_count": 4,
   "id": "0401fe43-0743-4dac-bb39-ce52320463af",
   "metadata": {},
   "outputs": [],
   "source": [
    "sd = 3"
   ]
  },
  {
   "cell_type": "code",
   "execution_count": 6,
   "id": "a1b1d0cc-5b27-422b-bc29-0feb7031c3c0",
   "metadata": {
    "tags": []
   },
   "outputs": [],
   "source": [
    "def get_betas(subjs, **kwargs):\n",
    "    \"\"\"Returns all betas, pvals and r^2s for the subjects given. \"\"\"\n",
    "    \n",
    "    r2s = []\n",
    "    betas = pd.DataFrame()\n",
    "    pvals = pd.DataFrame()\n",
    "\n",
    "    for subject in tqdm(subjs):\n",
    "        model = reg.get_model(subject=subject, **kwargs)\n",
    "        betas[subject] = model.params\n",
    "        pvals[subject] = model.pvalues\n",
    "        r2s.append(model.rsquared)\n",
    "    betas = betas.transpose()\n",
    "    pvals = pvals.transpose()\n",
    "    return betas, pvals, r2s"
   ]
  },
  {
   "cell_type": "code",
   "execution_count": 7,
   "id": "2f35bf8f-2e1a-408e-b7a4-4b5493133405",
   "metadata": {},
   "outputs": [],
   "source": [
    "def relabel_betas(betas, pvals):\n",
    "    betas = betas.copy()\n",
    "    pvals = pvals.copy()\n",
    "    for i in [betas, pvals]:\n",
    "        i.pop('const')\n",
    "        for key in BETAS_ORDER:\n",
    "            i[abbrv(key)] = i.pop(key)\n",
    "    return betas, pvals"
   ]
  },
  {
   "cell_type": "code",
   "execution_count": 8,
   "id": "87397b0d-5da5-4200-9bcf-b70aa483b6e2",
   "metadata": {},
   "outputs": [
    {
     "data": {
      "application/vnd.jupyter.widget-view+json": {
       "model_id": "72650f38e25a4157ab3e0b4463912f37",
       "version_major": 2,
       "version_minor": 0
      },
      "text/plain": [
       "  0%|          | 0/98 [00:00<?, ?it/s]"
      ]
     },
     "metadata": {},
     "output_type": "display_data"
    }
   ],
   "source": [
    "rbetas, rpvals, r2s = get_betas(subjs)\n",
    "betas, pvals = relabel_betas(rbetas, rpvals)"
   ]
  },
  {
   "cell_type": "code",
   "execution_count": 9,
   "id": "5e79410a-190e-4856-8045-388f97c9bec7",
   "metadata": {},
   "outputs": [
    {
     "name": "stderr",
     "output_type": "stream",
     "text": [
      "/var/folders/y5/cmj8rhp533v0zw59s7_t7lrc0000gn/T/ipykernel_48631/3960883720.py:5: FutureWarning: The frame.append method is deprecated and will be removed from pandas in a future version. Use pandas.concat instead.\n",
      "  results = results.append(r2)\n"
     ]
    },
    {
     "data": {
      "text/html": [
       "<div>\n",
       "<style scoped>\n",
       "    .dataframe tbody tr th:only-of-type {\n",
       "        vertical-align: middle;\n",
       "    }\n",
       "\n",
       "    .dataframe tbody tr th {\n",
       "        vertical-align: top;\n",
       "    }\n",
       "\n",
       "    .dataframe thead th {\n",
       "        text-align: right;\n",
       "    }\n",
       "</style>\n",
       "<table border=\"1\" class=\"dataframe\">\n",
       "  <thead>\n",
       "    <tr style=\"text-align: right;\">\n",
       "      <th></th>\n",
       "      <th>mean</th>\n",
       "      <th>CI</th>\n",
       "    </tr>\n",
       "  </thead>\n",
       "  <tbody>\n",
       "    <tr>\n",
       "      <th>OP</th>\n",
       "      <td>0.148</td>\n",
       "      <td>0.016</td>\n",
       "    </tr>\n",
       "    <tr>\n",
       "      <th>R</th>\n",
       "      <td>-0.090</td>\n",
       "      <td>0.015</td>\n",
       "    </tr>\n",
       "    <tr>\n",
       "      <th>LAG</th>\n",
       "      <td>0.400</td>\n",
       "      <td>0.020</td>\n",
       "    </tr>\n",
       "    <tr>\n",
       "      <th>SIM</th>\n",
       "      <td>-0.138</td>\n",
       "      <td>0.012</td>\n",
       "    </tr>\n",
       "    <tr>\n",
       "      <th>SESS</th>\n",
       "      <td>-0.094</td>\n",
       "      <td>0.014</td>\n",
       "    </tr>\n",
       "    <tr>\n",
       "      <th>SIMxLAG</th>\n",
       "      <td>-0.095</td>\n",
       "      <td>0.010</td>\n",
       "    </tr>\n",
       "    <tr>\n",
       "      <th>IRT₋₁</th>\n",
       "      <td>0.085</td>\n",
       "      <td>0.013</td>\n",
       "    </tr>\n",
       "    <tr>\n",
       "      <th>IRT₋₂</th>\n",
       "      <td>0.076</td>\n",
       "      <td>0.008</td>\n",
       "    </tr>\n",
       "    <tr>\n",
       "      <th>R^2</th>\n",
       "      <td>0.255</td>\n",
       "      <td>0.006</td>\n",
       "    </tr>\n",
       "  </tbody>\n",
       "</table>\n",
       "</div>"
      ],
      "text/plain": [
       "          mean     CI\n",
       "OP       0.148  0.016\n",
       "R       -0.090  0.015\n",
       "LAG      0.400  0.020\n",
       "SIM     -0.138  0.012\n",
       "SESS    -0.094  0.014\n",
       "SIMxLAG -0.095  0.010\n",
       "IRT₋₁    0.085  0.013\n",
       "IRT₋₂    0.076  0.008\n",
       "R^2      0.255  0.006"
      ]
     },
     "execution_count": 9,
     "metadata": {},
     "output_type": "execute_result"
    }
   ],
   "source": [
    "results = pd.DataFrame()\n",
    "results['mean'] = betas.mean().round(sd)\n",
    "results['CI'] = (1.96 * betas.sem()).round(sd)\n",
    "r2 = pd.Series([np.mean(r2s), scipy.stats.sem(r2s)], name='R^2', index=['mean', 'CI']).round(sd)\n",
    "results = results.append(r2)\n",
    "\n",
    "results"
   ]
  },
  {
   "cell_type": "code",
   "execution_count": 13,
   "id": "19993694-a0d5-4afc-b1ea-258e4bdde1b8",
   "metadata": {},
   "outputs": [
    {
     "data": {
      "text/plain": [
       "Text(0, 0.5, 'Z(Beta Coeficient)')"
      ]
     },
     "execution_count": 13,
     "metadata": {},
     "output_type": "execute_result"
    },
    {
     "data": {
      "image/png": "[encoded data removed]",
      "text/plain": [
       "<Figure size 504x720 with 1 Axes>"
      ]
     },
     "metadata": {
      "needs_background": "light"
     },
     "output_type": "display_data"
    }
   ],
   "source": [
    "fig, axes = plt.subplots(figsize=(7,10))\n",
    "\n",
    "plt.axhline(0, color='k', linestyle='--', zorder=1)\n",
    "\n",
    "for i, col in enumerate(betas.columns):\n",
    "    colors = [(0,0,0) if p < 0.05\n",
    "              else (1,1,1)\n",
    "              for p in pvals[col]]\n",
    "    plt.scatter([i]*len(betas), betas[col], c=colors, edgecolor='k', zorder=10)\n",
    "plt.xticks(range(len(BETAS_ORDER)), [abbrv(i) for i in BETAS_ORDER], rotation=60, ha='right', fontsize=20)\n",
    "plt.yticks(np.arange(-.2,.7, .2), fontsize=16)\n",
    "plt.ylim((-.5, .8))\n",
    "plt.ylabel('Z(Beta Coeficient)', fontsize=20)"
   ]
  },
  {
   "cell_type": "code",
   "execution_count": null,
   "id": "b1da5820-3b8f-41ba-b9a0-d091d0aeb315",
   "metadata": {},
   "outputs": [],
   "source": []
  }
 ],
 "metadata": {
  "kernelspec": {
   "display_name": "Python 3 (ipykernel)",
   "language": "python",
   "name": "python3"
  },
  "language_info": {
   "codemirror_mode": {
    "name": "ipython",
    "version": 3
   },
   "file_extension": ".py",
   "mimetype": "text/x-python",
   "name": "python",
   "nbconvert_exporter": "python",
   "pygments_lexer": "ipython3",
   "version": "3.9.12"
  }
 },
 "nbformat": 4,
 "nbformat_minor": 5
}
