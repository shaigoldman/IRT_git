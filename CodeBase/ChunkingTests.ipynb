{
 "cells": [
  {
   "cell_type": "markdown",
   "metadata": {},
   "source": [
    "## Run Chunking Tests\n",
    "\n",
    "Used to generate fig 10"
   ]
  },
  {
   "cell_type": "code",
   "execution_count": 1,
   "metadata": {},
   "outputs": [
    {
     "name": "stdout",
     "output_type": "stream",
     "text": [
      "No w2v was able to load\n"
     ]
    }
   ],
   "source": [
    "import os\n",
    "import numpy as np\n",
    "import pandas as pd\n",
    "import scipy.stats\n",
    "from tqdm.notebook import tqdm\n",
    "from glob import glob\n",
    "from matplotlib import pyplot as plt\n",
    "\n",
    "import Regressions as reg\n",
    "import DataBuild as db\n",
    "\n",
    "plt.rcParams.update({'font.size': 25})"
   ]
  },
  {
   "cell_type": "code",
   "execution_count": 2,
   "metadata": {},
   "outputs": [],
   "source": [
    "def get_after_slow_probs(subject, **kwargs):\n",
    "    \"\"\" Returns probability of each slow-fast pair following a slow \n",
    "        recall for a single subject.\n",
    "    \"\"\"\n",
    "    # get model residuals in form of a generator\n",
    "    # this will be used to populate a 2d df later\n",
    "    model = reg.get_model(subject=subject, **kwargs)\n",
    "    r_gen = (x for x in model.resid)\n",
    "    # create a 2d mask for recs with True only where there is a recall counted in the model\n",
    "    data = db.load_detailed_data(subject=subject)\n",
    "    rec_mask = data['irt'] # going to filter for where there is a valid irt\n",
    "    lag_keys = [k for k in data.keys() # also filter for where there is valid lags\n",
    "                    if 'irt-' in k]\n",
    "    rec_mask[~rec_mask.isnull()] = 1\n",
    "    rec_mask[rec_mask.isnull()] = 0\n",
    "    for lag in lag_keys:\n",
    "        rec_mask[data[lag].isnull()] = 0\n",
    "    rec_mask = rec_mask.astype(bool)\n",
    "    # populate our rec_mask with the residuals from model\n",
    "    for i, row in rec_mask.iterrows():\n",
    "        for j, item in row.iteritems():\n",
    "            if item:\n",
    "                rec_mask.loc[i, j] = next(r_gen)\n",
    "    rec_mask[rec_mask==False] = np.nan # flip from bools to floats\n",
    "    # label model predictions as fast (F) and slow (S)\n",
    "    f_mask = rec_mask<0\n",
    "    s_mask = rec_mask>=0\n",
    "    rec_mask[f_mask] = 'F'\n",
    "    rec_mask[s_mask] = 'S'\n",
    "    # get all groups of three recalls in terms of F and S\n",
    "    threes = []\n",
    "    for i, row in rec_mask.iterrows():\n",
    "        recs = row[~row.isnull()]\n",
    "        for j in recs.index[:-2]:\n",
    "            threes.append(''.join(recs.loc[j:j+2]))\n",
    "    # get probabilities of each pair-option after a slow\n",
    "    slow_starts = np.asarray([i[1:] for i in threes if i[0] == 'S'])\n",
    "    opts = ['FF', 'SS', 'FS', 'SF']\n",
    "    probs = [slow_starts[slow_starts==opt].size/slow_starts.size for opt in opts]\n",
    "    res = pd.Series(probs, index=opts, name=subject)\n",
    "    # thats our subject result\n",
    "    return res"
   ]
  },
  {
   "cell_type": "code",
   "execution_count": 3,
   "metadata": {},
   "outputs": [],
   "source": [
    "def get_summary(**kwargs):\n",
    "    \"\"\"Returns summary chunking statistics for all subjects\"\"\"\n",
    "    # get subject list\n",
    "    subjs = db.get_subjs()\n",
    "    # collect subject-level data\n",
    "    data = []\n",
    "    for subj in tqdm(subjs):\n",
    "        data.append(get_after_slow_probs(subject=subj, **kwargs))\n",
    "    # concatenate and summarize\n",
    "    all_data = pd.concat(data, axis=1).transpose()\n",
    "    summary = pd.DataFrame([all_data.mean(), 1.96*all_data.sem()], \n",
    "                 index=['mean', 'CI'],\n",
    "                ).transpose()\n",
    "    summary['N'] = all_data.shape[0]\n",
    "    return summary"
   ]
  },
  {
   "cell_type": "code",
   "execution_count": 15,
   "metadata": {},
   "outputs": [],
   "source": [
    "# PLOT CHUNKING BARS\n",
    "def plot_chunking(summary_data, axes=None, show_ticks=True, title=''):\n",
    "    \"\"\"Models IRTs for all subjects and computes and graphs chunking stats.\"\"\"\n",
    "    \n",
    "    if axes is None:\n",
    "        fig, axes = plt.subplots(figsize=(7,9))\n",
    "\n",
    "    axes.bar(summary_data.index, summary_data['mean'],\n",
    "            edgecolor='k', color='w', linewidth=2)\n",
    "    axes.errorbar(summary_data.index, summary_data['mean'],\n",
    "                 summary_data['CI'], color='k', linestyle='',\n",
    "                 capsize=7, linewidth=3\n",
    "                )\n",
    "\n",
    "    # line at expected from chance value\n",
    "    axes.axhline(.25, color='grey', linestyle='--')\n",
    "\n",
    "    axes.set_ylim((.19,.33))\n",
    "    \n",
    "    if show_ticks:\n",
    "        axes.set_yticks((.2,.25,.3), fontsize=20)\n",
    "        axes.set_ylabel('Probability Following a Slow Response')\n",
    "    else:\n",
    "        axes.set_yticks(())\n",
    "    \n",
    "    axes.set_title(title)"
   ]
  },
  {
   "cell_type": "code",
   "execution_count": 5,
   "metadata": {},
   "outputs": [
    {
     "data": {
      "application/vnd.jupyter.widget-view+json": {
       "model_id": "ef9d00f22ee44df4b8c6d2467703eab6",
       "version_major": 2,
       "version_minor": 0
      },
      "text/plain": [
       "  0%|          | 0/98 [00:00<?, ?it/s]"
      ]
     },
     "metadata": {},
     "output_type": "display_data"
    },
    {
     "data": {
      "application/vnd.jupyter.widget-view+json": {
       "model_id": "b45f50be1c7b4cd9b43efb209d1b44ee",
       "version_major": 2,
       "version_minor": 0
      },
      "text/plain": [
       "  0%|          | 0/98 [00:00<?, ?it/s]"
      ]
     },
     "metadata": {},
     "output_type": "display_data"
    }
   ],
   "source": [
    "basemodel = get_summary(model_num=1)\n",
    "fullmodel = get_summary()"
   ]
  },
  {
   "cell_type": "code",
   "execution_count": 18,
   "metadata": {},
   "outputs": [
    {
     "data": {
      "image/png": "[encoded data removed]",
      "text/plain": [
       "<Figure size 1008x648 with 2 Axes>"
      ]
     },
     "metadata": {
      "needs_background": "light"
     },
     "output_type": "display_data"
    }
   ],
   "source": [
    "fig, axes = plt.subplots(ncols=2, figsize=(14,9))\n",
    "plot_chunking(basemodel, axes[0], title='Base Model')\n",
    "plot_chunking(fullmodel, axes[1], show_ticks=False, title='Full Model')\n",
    "fig.savefig('figures/SFBar.pdf')"
   ]
  },
  {
   "cell_type": "code",
   "execution_count": null,
   "metadata": {},
   "outputs": [],
   "source": []
  }
 ],
 "metadata": {
  "kernelspec": {
   "display_name": "Python 3 (ipykernel)",
   "language": "python",
   "name": "python3"
  },
  "language_info": {
   "codemirror_mode": {
    "name": "ipython",
    "version": 3
   },
   "file_extension": ".py",
   "mimetype": "text/x-python",
   "name": "python",
   "nbconvert_exporter": "python",
   "pygments_lexer": "ipython3",
   "version": "3.9.12"
  }
 },
 "nbformat": 4,
 "nbformat_minor": 4
}
