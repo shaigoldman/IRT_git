{
 "cells": [
  {
   "cell_type": "code",
   "execution_count": 1,
   "metadata": {},
   "outputs": [],
   "source": [
    "import os\n",
    "import numpy as np\n",
    "import pandas as pd\n",
    "import statsmodels.api as sm\n",
    "import scipy.stats as ss\n",
    "from tqdm.notebook import tqdm\n",
    "from glob import glob\n",
    "from matplotlib import pyplot as plt\n",
    "\n",
    "import Regressions as reg\n",
    "import DataBuild as db"
   ]
  },
  {
   "cell_type": "code",
   "execution_count": 2,
   "metadata": {},
   "outputs": [],
   "source": [
    "# get behavioral data for ltpFR2 all subjects\n",
    "path = '/data/eeg/scalp/ltp/ltpFR2/behavioral/data/'\n",
    "files = [f for f in glob(path+'beh_data_LTP*.json') if 'incomplete' not in f]"
   ]
  },
  {
   "cell_type": "code",
   "execution_count": 3,
   "metadata": {},
   "outputs": [],
   "source": [
    "if 0:\n",
    "    max_lag = 4\n",
    "    lags = range(1,max_lag+1)\n",
    "    aics = []\n",
    "    bics = []\n",
    "    r2s = []\n",
    "    for file in tqdm(files):\n",
    "        subj = file.split('LTP')[1].replace('.json', '')\n",
    "        models = [reg.get_model(file, irt_lags=lag, min_irt=max_lag+1) for lag in lags]\n",
    "        aics.append(pd.Series([m.aic for m in models], index=lags, name=subj))\n",
    "        bics.append(pd.Series([m.bic for m in models], index=lags, name=subj))\n",
    "\n",
    "        r2s.append(pd.Series([m.rsquared for m in models], index=lags, name=subj))\n",
    "    aics = pd.concat(aics, axis=1).transpose()\n",
    "    bics = pd.concat(bics, axis=1).transpose()\n",
    "    r2s = pd.concat(r2s, axis=1).transpose()"
   ]
  },
  {
   "cell_type": "code",
   "execution_count": 4,
   "metadata": {},
   "outputs": [],
   "source": [
    "if 0:\n",
    "    stat = r2s\n",
    "    stat_name = 'r^2'\n",
    "\n",
    "    plt.errorbar(stat.columns, stat.mean(axis=0), yerr=stat.sem(axis=1).mean(axis=0),\n",
    "                 marker='o', color='k', label=stat_name\n",
    "                )\n",
    "    plt.xlabel('Number of Lags')\n",
    "    plt.ylabel(f'Avg {stat_name} Across Subjects')\n",
    "    plt.xticks(range(1, max_lag+1))"
   ]
  },
  {
   "cell_type": "code",
   "execution_count": null,
   "metadata": {},
   "outputs": [],
   "source": []
  },
  {
   "cell_type": "code",
   "execution_count": null,
   "metadata": {},
   "outputs": [],
   "source": []
  },
  {
   "cell_type": "code",
   "execution_count": null,
   "metadata": {},
   "outputs": [],
   "source": []
  },
  {
   "cell_type": "code",
   "execution_count": 5,
   "metadata": {},
   "outputs": [],
   "source": [
    "# cross-validation (hold out subjects for testing -> 5/4)\n",
    "# MSE-test error for test set\n",
    "# add param for subject"
   ]
  },
  {
   "cell_type": "code",
   "execution_count": 6,
   "metadata": {},
   "outputs": [],
   "source": [
    "def data_mult_subj(files, irt_lag, min_irt):\n",
    "    \n",
    "    filename = f'alldata_il{irt_lag}mi{min_irt}.pkl'\n",
    "    if os.path.exists(filename):\n",
    "        return pd.read_pickle(filename)\n",
    "    \n",
    "    all_data = []\n",
    "    for file in tqdm(files):\n",
    "        subj = file.split('LTP')[1].replace('.json', '')\n",
    "        data = db.load_detailed_data(path=file, irt_lags=irt_lag, min_irt=min_irt)\n",
    "        flat_data = reg.prep_data_for_ols(data)\n",
    "        flat_data['subject'] = int(subj)\n",
    "        all_data.append(flat_data)\n",
    "\n",
    "    all_data = pd.concat(all_data)\n",
    "    all_data.index = range(len(all_data))\n",
    "    \n",
    "    all_data.to_pickle(filename)\n",
    "    \n",
    "    return all_data"
   ]
  },
  {
   "cell_type": "code",
   "execution_count": 7,
   "metadata": {},
   "outputs": [],
   "source": [
    "if 0:\n",
    "    max_lag = 4\n",
    "    lags = range(1,max_lag+1)\n",
    "    mses = [[] for i in lags]\n",
    "    mse_err = [[] for i in lags]\n",
    "\n",
    "    # split into training and testing 5/4\n",
    "    training_files = np.random.choice(files, 4*int(len(files)/5))\n",
    "    testing_files = [f for f in files if not f in training_files]\n",
    "\n",
    "    set_size = int(len(files)/5)\n",
    "\n",
    "\n",
    "    for i, lag in enumerate(lags):\n",
    "\n",
    "        data = data_mult_subj(files, irt_lag=lag, min_irt=max_lag+1)\n",
    "        data.pop('total_recalls')\n",
    "        data.pop('lag')\n",
    "        data.pop('sem')\n",
    "        data.pop('lag_sem')\n",
    "        data.pop('output_pos')\n",
    "        data.pop('session')\n",
    "\n",
    "        for s in range(5):\n",
    "\n",
    "            train_data = data[data['subject']%5!=s]\n",
    "            test_data = data[data['subject']%5==s]\n",
    "\n",
    "            # get model from training set\n",
    "            model = reg.fit_model(train_data)\n",
    "\n",
    "            # get mse\n",
    "            y = test_data.pop('irt').values\n",
    "            x = sm.add_constant(test_data)\n",
    "            sq_error = (y - model.predict(x).values) ** 2\n",
    "            mse = np.mean(sq_error)\n",
    "            mses[i].append(mse)\n",
    "            \n",
    "    model = reg.fit_model(train_data)\n",
    "    np.sum(model.resid**2)/len(model.resid)"
   ]
  },
  {
   "cell_type": "code",
   "execution_count": 8,
   "metadata": {},
   "outputs": [],
   "source": [
    "import sklearn.model_selection"
   ]
  },
  {
   "cell_type": "code",
   "execution_count": 9,
   "metadata": {},
   "outputs": [],
   "source": [
    "import sklearn.linear_model"
   ]
  },
  {
   "cell_type": "code",
   "execution_count": 10,
   "metadata": {},
   "outputs": [],
   "source": [
    "from sklearn.model_selection import  GroupKFold"
   ]
  },
  {
   "cell_type": "code",
   "execution_count": 11,
   "metadata": {},
   "outputs": [],
   "source": [
    "max_lag = 4\n",
    "lags = range(1,max_lag+1)"
   ]
  },
  {
   "cell_type": "code",
   "execution_count": 12,
   "metadata": {},
   "outputs": [],
   "source": [
    "def get_cv_scores(data, cv=5):\n",
    "    \n",
    "    X = data.copy()\n",
    "    X['cnst'] = 1 # makes this a constant\n",
    "    y = X.pop('irt')\n",
    "    \n",
    "    return sklearn.model_selection.cross_validate(\n",
    "                    sklearn.linear_model.LinearRegression(),\n",
    "                    cv=GroupKFold(cv), X=X, y=y, scoring='r2', groups = X['subject'],\n",
    "        \n",
    "                )['test_score']\n",
    "    \n",
    "    scores = []\n",
    "    \n",
    "    for subject in data['subject'].unique():\n",
    "        \n",
    "        s_data = data.query(f'subject=={subject}')\n",
    "\n",
    "        X = s_data.copy()\n",
    "        X['subject'] /= X['subject'] # makes this a constant\n",
    "        y = X.pop('irt')\n",
    "\n",
    "        scores.append(\n",
    "            np.mean(\n",
    "                sklearn.model_selection.cross_validate(\n",
    "                    sklearn.linear_model.LinearRegression(),\n",
    "                    cv=cv, X=X, y=y, scoring='r2'\n",
    "                )['test_score']\n",
    "            )\n",
    "        )\n",
    "#         fit = sklearn.linear_model.LinearRegression().fit(X, y)\n",
    "#         scores.append(fit.score(X, y))\n",
    "        \n",
    "    return scores"
   ]
  },
  {
   "cell_type": "code",
   "execution_count": null,
   "metadata": {},
   "outputs": [],
   "source": []
  },
  {
   "cell_type": "code",
   "execution_count": 13,
   "metadata": {},
   "outputs": [],
   "source": [
    "lags = [0, *lags]"
   ]
  },
  {
   "cell_type": "code",
   "execution_count": 14,
   "metadata": {},
   "outputs": [
    {
     "ename": "NameError",
     "evalue": "name 'scores' is not defined",
     "output_type": "error",
     "traceback": [
      "\u001b[0;31m---------------------------------------------------------------------------\u001b[0m",
      "\u001b[0;31mNameError\u001b[0m                                 Traceback (most recent call last)",
      "\u001b[0;32m<ipython-input-14-5d092fc6af65>\u001b[0m in \u001b[0;36m<module>\u001b[0;34m\u001b[0m\n\u001b[1;32m      5\u001b[0m     \u001b[0mdata\u001b[0m \u001b[0;34m=\u001b[0m \u001b[0mdata_mult_subj\u001b[0m\u001b[0;34m(\u001b[0m\u001b[0mfiles\u001b[0m\u001b[0;34m,\u001b[0m \u001b[0mirt_lag\u001b[0m\u001b[0;34m=\u001b[0m\u001b[0mlag\u001b[0m\u001b[0;34m,\u001b[0m \u001b[0mmin_irt\u001b[0m\u001b[0;34m=\u001b[0m\u001b[0mmax_lag\u001b[0m\u001b[0;34m+\u001b[0m\u001b[0;36m1\u001b[0m\u001b[0;34m)\u001b[0m\u001b[0;34m\u001b[0m\u001b[0;34m\u001b[0m\u001b[0m\n\u001b[1;32m      6\u001b[0m     \u001b[0mr2s\u001b[0m\u001b[0;34m.\u001b[0m\u001b[0mappend\u001b[0m\u001b[0;34m(\u001b[0m\u001b[0mget_cv_scores\u001b[0m\u001b[0;34m(\u001b[0m\u001b[0mdata\u001b[0m\u001b[0;34m)\u001b[0m\u001b[0;34m)\u001b[0m\u001b[0;34m\u001b[0m\u001b[0;34m\u001b[0m\u001b[0m\n\u001b[0;32m----> 7\u001b[0;31m     \u001b[0mr2_errs\u001b[0m\u001b[0;34m.\u001b[0m\u001b[0mappend\u001b[0m\u001b[0;34m(\u001b[0m\u001b[0mss\u001b[0m\u001b[0;34m.\u001b[0m\u001b[0msem\u001b[0m\u001b[0;34m(\u001b[0m\u001b[0mscores\u001b[0m\u001b[0;34m)\u001b[0m\u001b[0;34m)\u001b[0m\u001b[0;34m\u001b[0m\u001b[0;34m\u001b[0m\u001b[0m\n\u001b[0m",
      "\u001b[0;31mNameError\u001b[0m: name 'scores' is not defined"
     ]
    }
   ],
   "source": [
    "r2s = []\n",
    "r2_errs = []\n",
    "for i, lag in enumerate([0, *lags]):\n",
    "    \n",
    "    data = data_mult_subj(files, irt_lag=lag, min_irt=max_lag+1)\n",
    "    r2s.append(get_cv_scores(data))\n",
    "    r2_errs.append(ss.sem(scores))"
   ]
  },
  {
   "cell_type": "code",
   "execution_count": 16,
   "metadata": {},
   "outputs": [
    {
     "ename": "ValueError",
     "evalue": "'x' and 'y' must have the same size",
     "output_type": "error",
     "traceback": [
      "\u001b[0;31m---------------------------------------------------------------------------\u001b[0m",
      "\u001b[0;31mValueError\u001b[0m                                Traceback (most recent call last)",
      "\u001b[0;32m<ipython-input-16-879a31663b2f>\u001b[0m in \u001b[0;36m<module>\u001b[0;34m\u001b[0m\n\u001b[1;32m      1\u001b[0m plt.errorbar(lags, [np.mean(x) for x in r2s], \n\u001b[1;32m      2\u001b[0m             \u001b[0;31m# yerr=r2_errs,\u001b[0m\u001b[0;34m\u001b[0m\u001b[0;34m\u001b[0m\u001b[0;34m\u001b[0m\u001b[0m\n\u001b[0;32m----> 3\u001b[0;31m              marker='o')\n\u001b[0m\u001b[1;32m      4\u001b[0m \u001b[0mplt\u001b[0m\u001b[0;34m.\u001b[0m\u001b[0mxticks\u001b[0m\u001b[0;34m(\u001b[0m\u001b[0mlags\u001b[0m\u001b[0;34m)\u001b[0m\u001b[0;34m\u001b[0m\u001b[0;34m\u001b[0m\u001b[0m\n\u001b[1;32m      5\u001b[0m \u001b[0mplt\u001b[0m\u001b[0;34m.\u001b[0m\u001b[0mxlabel\u001b[0m\u001b[0;34m(\u001b[0m\u001b[0;34m'Number of Lags'\u001b[0m\u001b[0;34m)\u001b[0m\u001b[0;34m\u001b[0m\u001b[0;34m\u001b[0m\u001b[0m\n",
      "\u001b[0;32m~/anaconda2/envs/py3_env/lib/python3.6/site-packages/matplotlib/pyplot.py\u001b[0m in \u001b[0;36merrorbar\u001b[0;34m(x, y, yerr, xerr, fmt, ecolor, elinewidth, capsize, barsabove, lolims, uplims, xlolims, xuplims, errorevery, capthick, data, **kwargs)\u001b[0m\n\u001b[1;32m   2591\u001b[0m         \u001b[0mlolims\u001b[0m\u001b[0;34m=\u001b[0m\u001b[0mlolims\u001b[0m\u001b[0;34m,\u001b[0m \u001b[0muplims\u001b[0m\u001b[0;34m=\u001b[0m\u001b[0muplims\u001b[0m\u001b[0;34m,\u001b[0m \u001b[0mxlolims\u001b[0m\u001b[0;34m=\u001b[0m\u001b[0mxlolims\u001b[0m\u001b[0;34m,\u001b[0m\u001b[0;34m\u001b[0m\u001b[0;34m\u001b[0m\u001b[0m\n\u001b[1;32m   2592\u001b[0m         \u001b[0mxuplims\u001b[0m\u001b[0;34m=\u001b[0m\u001b[0mxuplims\u001b[0m\u001b[0;34m,\u001b[0m \u001b[0merrorevery\u001b[0m\u001b[0;34m=\u001b[0m\u001b[0merrorevery\u001b[0m\u001b[0;34m,\u001b[0m \u001b[0mcapthick\u001b[0m\u001b[0;34m=\u001b[0m\u001b[0mcapthick\u001b[0m\u001b[0;34m,\u001b[0m\u001b[0;34m\u001b[0m\u001b[0;34m\u001b[0m\u001b[0m\n\u001b[0;32m-> 2593\u001b[0;31m         **({\"data\": data} if data is not None else {}), **kwargs)\n\u001b[0m\u001b[1;32m   2594\u001b[0m \u001b[0;34m\u001b[0m\u001b[0m\n\u001b[1;32m   2595\u001b[0m \u001b[0;34m\u001b[0m\u001b[0m\n",
      "\u001b[0;32m~/anaconda2/envs/py3_env/lib/python3.6/site-packages/matplotlib/__init__.py\u001b[0m in \u001b[0;36minner\u001b[0;34m(ax, data, *args, **kwargs)\u001b[0m\n\u001b[1;32m   1436\u001b[0m     \u001b[0;32mdef\u001b[0m \u001b[0minner\u001b[0m\u001b[0;34m(\u001b[0m\u001b[0max\u001b[0m\u001b[0;34m,\u001b[0m \u001b[0;34m*\u001b[0m\u001b[0margs\u001b[0m\u001b[0;34m,\u001b[0m \u001b[0mdata\u001b[0m\u001b[0;34m=\u001b[0m\u001b[0;32mNone\u001b[0m\u001b[0;34m,\u001b[0m \u001b[0;34m**\u001b[0m\u001b[0mkwargs\u001b[0m\u001b[0;34m)\u001b[0m\u001b[0;34m:\u001b[0m\u001b[0;34m\u001b[0m\u001b[0;34m\u001b[0m\u001b[0m\n\u001b[1;32m   1437\u001b[0m         \u001b[0;32mif\u001b[0m \u001b[0mdata\u001b[0m \u001b[0;32mis\u001b[0m \u001b[0;32mNone\u001b[0m\u001b[0;34m:\u001b[0m\u001b[0;34m\u001b[0m\u001b[0;34m\u001b[0m\u001b[0m\n\u001b[0;32m-> 1438\u001b[0;31m             \u001b[0;32mreturn\u001b[0m \u001b[0mfunc\u001b[0m\u001b[0;34m(\u001b[0m\u001b[0max\u001b[0m\u001b[0;34m,\u001b[0m \u001b[0;34m*\u001b[0m\u001b[0mmap\u001b[0m\u001b[0;34m(\u001b[0m\u001b[0msanitize_sequence\u001b[0m\u001b[0;34m,\u001b[0m \u001b[0margs\u001b[0m\u001b[0;34m)\u001b[0m\u001b[0;34m,\u001b[0m \u001b[0;34m**\u001b[0m\u001b[0mkwargs\u001b[0m\u001b[0;34m)\u001b[0m\u001b[0;34m\u001b[0m\u001b[0;34m\u001b[0m\u001b[0m\n\u001b[0m\u001b[1;32m   1439\u001b[0m \u001b[0;34m\u001b[0m\u001b[0m\n\u001b[1;32m   1440\u001b[0m         \u001b[0mbound\u001b[0m \u001b[0;34m=\u001b[0m \u001b[0mnew_sig\u001b[0m\u001b[0;34m.\u001b[0m\u001b[0mbind\u001b[0m\u001b[0;34m(\u001b[0m\u001b[0max\u001b[0m\u001b[0;34m,\u001b[0m \u001b[0;34m*\u001b[0m\u001b[0margs\u001b[0m\u001b[0;34m,\u001b[0m \u001b[0;34m**\u001b[0m\u001b[0mkwargs\u001b[0m\u001b[0;34m)\u001b[0m\u001b[0;34m\u001b[0m\u001b[0;34m\u001b[0m\u001b[0m\n",
      "\u001b[0;32m~/anaconda2/envs/py3_env/lib/python3.6/site-packages/matplotlib/axes/_axes.py\u001b[0m in \u001b[0;36merrorbar\u001b[0;34m(self, x, y, yerr, xerr, fmt, ecolor, elinewidth, capsize, barsabove, lolims, uplims, xlolims, xuplims, errorevery, capthick, **kwargs)\u001b[0m\n\u001b[1;32m   3296\u001b[0m \u001b[0;34m\u001b[0m\u001b[0m\n\u001b[1;32m   3297\u001b[0m         \u001b[0;32mif\u001b[0m \u001b[0mlen\u001b[0m\u001b[0;34m(\u001b[0m\u001b[0mx\u001b[0m\u001b[0;34m)\u001b[0m \u001b[0;34m!=\u001b[0m \u001b[0mlen\u001b[0m\u001b[0;34m(\u001b[0m\u001b[0my\u001b[0m\u001b[0;34m)\u001b[0m\u001b[0;34m:\u001b[0m\u001b[0;34m\u001b[0m\u001b[0;34m\u001b[0m\u001b[0m\n\u001b[0;32m-> 3298\u001b[0;31m             \u001b[0;32mraise\u001b[0m \u001b[0mValueError\u001b[0m\u001b[0;34m(\u001b[0m\u001b[0;34m\"'x' and 'y' must have the same size\"\u001b[0m\u001b[0;34m)\u001b[0m\u001b[0;34m\u001b[0m\u001b[0;34m\u001b[0m\u001b[0m\n\u001b[0m\u001b[1;32m   3299\u001b[0m \u001b[0;34m\u001b[0m\u001b[0m\n\u001b[1;32m   3300\u001b[0m         \u001b[0;32mif\u001b[0m \u001b[0mxerr\u001b[0m \u001b[0;32mis\u001b[0m \u001b[0;32mnot\u001b[0m \u001b[0;32mNone\u001b[0m\u001b[0;34m:\u001b[0m\u001b[0;34m\u001b[0m\u001b[0;34m\u001b[0m\u001b[0m\n",
      "\u001b[0;31mValueError\u001b[0m: 'x' and 'y' must have the same size"
     ]
    },
    {
     "data": {
      "image/png": "[encoded data removed]",
      "text/plain": [
       "<Figure size 432x288 with 1 Axes>"
      ]
     },
     "metadata": {
      "needs_background": "light"
     },
     "output_type": "display_data"
    }
   ],
   "source": [
    "plt.errorbar(lags, [np.mean(x) for x in r2s], \n",
    "            # yerr=r2_errs,\n",
    "             marker='o')\n",
    "plt.xticks(lags)\n",
    "plt.xlabel('Number of Lags')\n",
    "plt.ylabel(r'Average $R^2$ of Folds');\n",
    "plt.savefig('Cross_Validation.pdf')"
   ]
  },
  {
   "cell_type": "code",
   "execution_count": 17,
   "metadata": {},
   "outputs": [],
   "source": [
    "cv_res = {}\n",
    "data = data_mult_subj(files, irt_lag=1, min_irt=2)\n",
    "\n",
    "for key in ['output_pos', 'session', 'lag', 'irt-1',\n",
    "            'sem', 'total_recalls', 'lag_sem', None]:\n",
    "\n",
    "    X = data.copy()\n",
    "    if key is not None:\n",
    "        X.pop(key)\n",
    "\n",
    "    cv_res[key] = get_cv_scores(X, 5)"
   ]
  },
  {
   "cell_type": "code",
   "execution_count": 18,
   "metadata": {},
   "outputs": [
    {
     "data": {
      "image/png": "[encoded data removed]",
      "text/plain": [
       "<Figure size 432x288 with 1 Axes>"
      ]
     },
     "metadata": {
      "needs_background": "light"
     },
     "output_type": "display_data"
    }
   ],
   "source": [
    "scores= [np.mean(cv_res[key]) for key in cv_res]\n",
    "plt.plot(scores, marker='o')\n",
    "plt.xticks(range(len(scores)), list(cv_res.keys()));"
   ]
  },
  {
   "cell_type": "code",
   "execution_count": 19,
   "metadata": {},
   "outputs": [
    {
     "data": {
      "text/plain": [
       "Ttest_indResult(statistic=-5.177627257663276e-05, pvalue=0.9999599563321913)"
      ]
     },
     "execution_count": 19,
     "metadata": {},
     "output_type": "execute_result"
    }
   ],
   "source": [
    "ss.ttest_ind(cv_res['session'], cv_res[None])"
   ]
  },
  {
   "cell_type": "code",
   "execution_count": 204,
   "metadata": {},
   "outputs": [
    {
     "data": {
      "text/plain": [
       "{'output_pos': array([0.99713784, 0.99601237, 0.99546898, 0.99511334, 0.99420746]),\n",
       " 'session': array([0.99713853, 0.99601288, 0.99546838, 0.99511296, 0.99420747]),\n",
       " 'lag': array([0.99711617, 0.99596151, 0.99531536, 0.99500231, 0.99412409]),\n",
       " 'sem': array([0.99713402, 0.99599999, 0.99544836, 0.99509454, 0.99419458]),\n",
       " 'total_recalls': array([0.99713849, 0.99601339, 0.99546898, 0.99511317, 0.99420742]),\n",
       " 'lag_sem': array([0.99713267, 0.99601044, 0.99546129, 0.9951094 , 0.99420332]),\n",
       " None: array([0.99713791, 0.99601242, 0.99546878, 0.99511324, 0.99420746])}"
      ]
     },
     "execution_count": 204,
     "metadata": {},
     "output_type": "execute_result"
    }
   ],
   "source": [
    "cv_res"
   ]
  },
  {
   "cell_type": "code",
   "execution_count": 220,
   "metadata": {},
   "outputs": [],
   "source": [
    "data = data_mult_subj(files, irt_lag=1, min_irt=2)"
   ]
  }
 ],
 "metadata": {
  "kernelspec": {
   "display_name": "py3_env",
   "language": "python",
   "name": "py3_env"
  },
  "language_info": {
   "codemirror_mode": {
    "name": "ipython",
    "version": 3
   },
   "file_extension": ".py",
   "mimetype": "text/x-python",
   "name": "python",
   "nbconvert_exporter": "python",
   "pygments_lexer": "ipython3",
   "version": "3.6.10"
  }
 },
 "nbformat": 4,
 "nbformat_minor": 4
}
