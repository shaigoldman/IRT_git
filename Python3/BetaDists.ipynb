{
 "cells": [
  {
   "cell_type": "code",
   "execution_count": 31,
   "id": "519fd1cf-e73b-480f-a4df-e8f99bf08abc",
   "metadata": {
    "tags": []
   },
   "outputs": [],
   "source": [
    "import os\n",
    "import numpy as np\n",
    "import pandas as pd\n",
    "import scipy.stats\n",
    "from tqdm.notebook import tqdm\n",
    "from glob import glob\n",
    "from matplotlib import pyplot as plt\n",
    "\n",
    "import Regressions as reg\n",
    "import DataBuild as db"
   ]
  },
  {
   "cell_type": "code",
   "execution_count": 75,
   "id": "8f884bbd-e6e9-413e-8149-4c9241ea29d8",
   "metadata": {},
   "outputs": [],
   "source": [
    "def abbrv(beta):\n",
    "    if beta == 'session': return 'SESS'\n",
    "    if beta == 'lag': return 'LAG'\n",
    "    if beta == 'sem': return 'SIM'\n",
    "    if beta == 'total_recalls': return 'R'\n",
    "    if beta == 'lag_sem': return 'SIMxLAG'\n",
    "    if beta == 'output_pos': return 'OP'\n",
    "    if beta == 'irt-1': return 'IRT₋₁'\n",
    "    if beta == 'irt-2': return 'IRT₋₂'\n",
    "    return beta"
   ]
  },
  {
   "cell_type": "code",
   "execution_count": 68,
   "id": "0401fe43-0743-4dac-bb39-ce52320463af",
   "metadata": {},
   "outputs": [],
   "source": [
    "sd = 3"
   ]
  },
  {
   "cell_type": "code",
   "execution_count": 69,
   "id": "5e628ebe-be70-49e8-84d3-0676505b3551",
   "metadata": {},
   "outputs": [],
   "source": [
    "# get behavioral data for ltpFR2 all subjects\n",
    "path = '/data/eeg/scalp/ltp/ltpFR2/behavioral/data/'\n",
    "files = [f for f in glob(path+'beh_data_LTP*.json') if 'incomplete' not in f]\n",
    "subjs = ['LTP'+file.split('LTP')[1].replace('.json', '') for file in files]"
   ]
  },
  {
   "cell_type": "code",
   "execution_count": 96,
   "id": "a1b1d0cc-5b27-422b-bc29-0feb7031c3c0",
   "metadata": {
    "tags": []
   },
   "outputs": [],
   "source": [
    "def get_betas(subjs, **kwargs):\n",
    "    \"\"\"Returns all betas and pvals for the subjects given. \"\"\"\n",
    "    \n",
    "    r2s = []\n",
    "    betas = pd.DataFrame()\n",
    "    pvals = pd.DataFrame()\n",
    "\n",
    "    for subject in tqdm(subjs):\n",
    "        model = reg.get_model(subject=subject, **kwargs)\n",
    "        betas[subject] = model.params\n",
    "        pvals[subject] = model.pvalues\n",
    "        r2s.append(model.rsquared)\n",
    "    betas = betas.transpose()\n",
    "    pvals = pvals.transpose()\n",
    "    return betas, pvals"
   ]
  },
  {
   "cell_type": "code",
   "execution_count": 103,
   "id": "2f35bf8f-2e1a-408e-b7a4-4b5493133405",
   "metadata": {},
   "outputs": [],
   "source": [
    "def relabel_betas(betas, pvals):\n",
    "    order = ['output_pos', 'total_recalls', 'lag',\n",
    "             'sem', 'session', 'lag_sem', 'irt-1', 'irt-2']\n",
    "    betas = betas.copy()\n",
    "    pvals = pvals.copy()\n",
    "    for i in [betas, pvals]:\n",
    "        i.pop('const')\n",
    "        for key in order:\n",
    "            i[abbrv(key)] = i.pop(key)\n",
    "    return betas, pvals"
   ]
  },
  {
   "cell_type": "code",
   "execution_count": 104,
   "id": "87397b0d-5da5-4200-9bcf-b70aa483b6e2",
   "metadata": {},
   "outputs": [
    {
     "data": {
      "application/vnd.jupyter.widget-view+json": {
       "model_id": "81391d7355684462a7cb3280de7bc86a",
       "version_major": 2,
       "version_minor": 0
      },
      "text/plain": [
       "HBox(children=(FloatProgress(value=0.0, max=98.0), HTML(value='')))"
      ]
     },
     "metadata": {},
     "output_type": "display_data"
    },
    {
     "name": "stdout",
     "output_type": "stream",
     "text": [
      "\n"
     ]
    }
   ],
   "source": [
    "rbetas, rpvals = get_betas(subjs)"
   ]
  },
  {
   "cell_type": "code",
   "execution_count": 105,
   "id": "34e14a4f-3a0f-46e5-a99b-c9a51f8d6ed6",
   "metadata": {},
   "outputs": [],
   "source": [
    "betas, pvals = relabel_betas(rbetas, rpvals)"
   ]
  },
  {
   "cell_type": "code",
   "execution_count": 107,
   "id": "5e79410a-190e-4856-8045-388f97c9bec7",
   "metadata": {},
   "outputs": [
    {
     "data": {
      "text/html": [
       "<div>\n",
       "<style scoped>\n",
       "    .dataframe tbody tr th:only-of-type {\n",
       "        vertical-align: middle;\n",
       "    }\n",
       "\n",
       "    .dataframe tbody tr th {\n",
       "        vertical-align: top;\n",
       "    }\n",
       "\n",
       "    .dataframe thead th {\n",
       "        text-align: right;\n",
       "    }\n",
       "</style>\n",
       "<table border=\"1\" class=\"dataframe\">\n",
       "  <thead>\n",
       "    <tr style=\"text-align: right;\">\n",
       "      <th></th>\n",
       "      <th>mean</th>\n",
       "      <th>CI</th>\n",
       "    </tr>\n",
       "  </thead>\n",
       "  <tbody>\n",
       "    <tr>\n",
       "      <th>OP</th>\n",
       "      <td>0.148</td>\n",
       "      <td>0.016</td>\n",
       "    </tr>\n",
       "    <tr>\n",
       "      <th>R</th>\n",
       "      <td>-0.090</td>\n",
       "      <td>0.015</td>\n",
       "    </tr>\n",
       "    <tr>\n",
       "      <th>LAG</th>\n",
       "      <td>0.400</td>\n",
       "      <td>0.020</td>\n",
       "    </tr>\n",
       "    <tr>\n",
       "      <th>SIM</th>\n",
       "      <td>-0.138</td>\n",
       "      <td>0.012</td>\n",
       "    </tr>\n",
       "    <tr>\n",
       "      <th>SESS</th>\n",
       "      <td>-0.094</td>\n",
       "      <td>0.014</td>\n",
       "    </tr>\n",
       "    <tr>\n",
       "      <th>SIMxLAG</th>\n",
       "      <td>-0.095</td>\n",
       "      <td>0.010</td>\n",
       "    </tr>\n",
       "    <tr>\n",
       "      <th>IRT₋₁</th>\n",
       "      <td>0.085</td>\n",
       "      <td>0.013</td>\n",
       "    </tr>\n",
       "    <tr>\n",
       "      <th>IRT₋₂</th>\n",
       "      <td>0.076</td>\n",
       "      <td>0.008</td>\n",
       "    </tr>\n",
       "    <tr>\n",
       "      <th>R^2</th>\n",
       "      <td>0.255</td>\n",
       "      <td>0.006</td>\n",
       "    </tr>\n",
       "  </tbody>\n",
       "</table>\n",
       "</div>"
      ],
      "text/plain": [
       "          mean     CI\n",
       "OP       0.148  0.016\n",
       "R       -0.090  0.015\n",
       "LAG      0.400  0.020\n",
       "SIM     -0.138  0.012\n",
       "SESS    -0.094  0.014\n",
       "SIMxLAG -0.095  0.010\n",
       "IRT₋₁    0.085  0.013\n",
       "IRT₋₂    0.076  0.008\n",
       "R^2      0.255  0.006"
      ]
     },
     "execution_count": 107,
     "metadata": {},
     "output_type": "execute_result"
    }
   ],
   "source": [
    "results = pd.DataFrame()\n",
    "results['mean'] = betas.mean().round(sd)\n",
    "results['CI'] = (1.96 * betas.sem()).round(sd)\n",
    "r2 = pd.Series([np.mean(r2s), scipy.stats.sem(r2s)], name='R^2', index=['mean', 'CI']).round(sd)\n",
    "results = results.append(r2)\n",
    "\n",
    "results"
   ]
  },
  {
   "cell_type": "code",
   "execution_count": 120,
   "id": "19993694-a0d5-4afc-b1ea-258e4bdde1b8",
   "metadata": {},
   "outputs": [
    {
     "data": {
      "text/plain": [
       "Text(0, 0.5, 'Z(Beta Coeficient)')"
      ]
     },
     "execution_count": 120,
     "metadata": {},
     "output_type": "execute_result"
    },
    {
     "data": {
      "image/png": "[encoded data removed]",
      "text/plain": [
       "<Figure size 504x720 with 1 Axes>"
      ]
     },
     "metadata": {
      "needs_background": "light"
     },
     "output_type": "display_data"
    }
   ],
   "source": [
    "fig, axes = plt.subplots(figsize=(7,10))\n",
    "\n",
    "plt.axhline(0, color='k', linestyle='--', zorder=1)\n",
    "\n",
    "for i, col in enumerate(betas.columns):\n",
    "    colors = [(0,0,0) if p < 0.05\n",
    "              else (1,1,1)\n",
    "              for p in pvals[col]]\n",
    "    plt.scatter([i]*len(betas), betas[col], c=colors, edgecolor='k', zorder=10)\n",
    "plt.xticks(range(len(order)), [abbrv(i) for i in order], rotation=60, ha='right', fontsize=20)\n",
    "plt.yticks(np.arange(-.2,.7, .2), fontsize=16)\n",
    "plt.ylim((-1, 1))\n",
    "plt.ylabel('Z(Beta Coeficient)', fontsize=20)"
   ]
  },
  {
   "cell_type": "code",
   "execution_count": 93,
   "id": "f9a68ff9-6e78-4fcf-8c79-bde7e8514e9c",
   "metadata": {},
   "outputs": [
    {
     "data": {
      "text/plain": [
       "\u001b[0;31mSignature:\u001b[0m \u001b[0mplt\u001b[0m\u001b[0;34m.\u001b[0m\u001b[0mxlabel\u001b[0m\u001b[0;34m(\u001b[0m\u001b[0mxlabel\u001b[0m\u001b[0;34m,\u001b[0m \u001b[0mfontdict\u001b[0m\u001b[0;34m=\u001b[0m\u001b[0;32mNone\u001b[0m\u001b[0;34m,\u001b[0m \u001b[0mlabelpad\u001b[0m\u001b[0;34m=\u001b[0m\u001b[0;32mNone\u001b[0m\u001b[0;34m,\u001b[0m \u001b[0;34m*\u001b[0m\u001b[0;34m,\u001b[0m \u001b[0mloc\u001b[0m\u001b[0;34m=\u001b[0m\u001b[0;32mNone\u001b[0m\u001b[0;34m,\u001b[0m \u001b[0;34m**\u001b[0m\u001b[0mkwargs\u001b[0m\u001b[0;34m)\u001b[0m\u001b[0;34m\u001b[0m\u001b[0;34m\u001b[0m\u001b[0m\n",
       "\u001b[0;31mDocstring:\u001b[0m\n",
       "Set the label for the x-axis.\n",
       "\n",
       "Parameters\n",
       "----------\n",
       "xlabel : str\n",
       "    The label text.\n",
       "\n",
       "labelpad : float, default: None\n",
       "    Spacing in points from the axes bounding box including ticks\n",
       "    and tick labels.\n",
       "\n",
       "loc : {'left', 'center', 'right'}, default: :rc:`xaxis.labellocation`\n",
       "    The label position. This is a high-level alternative for passing\n",
       "    parameters *x* and *horizontalalignment*.\n",
       "\n",
       "Other Parameters\n",
       "----------------\n",
       "**kwargs : `.Text` properties\n",
       "    `.Text` properties control the appearance of the label.\n",
       "\n",
       "See Also\n",
       "--------\n",
       "text : Documents the properties supported by `.Text`.\n",
       "\u001b[0;31mFile:\u001b[0m      ~/anaconda2/envs/py3_env/lib/python3.6/site-packages/matplotlib/pyplot.py\n",
       "\u001b[0;31mType:\u001b[0m      function\n"
      ]
     },
     "metadata": {},
     "output_type": "display_data"
    }
   ],
   "source": [
    "plt.xlabel?"
   ]
  },
  {
   "cell_type": "code",
   "execution_count": null,
   "id": "deb2d854-04d3-4240-98f0-48cb97b56a2d",
   "metadata": {},
   "outputs": [],
   "source": []
  }
 ],
 "metadata": {
  "kernelspec": {
   "display_name": "py3_env",
   "language": "python",
   "name": "py3_env"
  },
  "language_info": {
   "codemirror_mode": {
    "name": "ipython",
    "version": 3
   },
   "file_extension": ".py",
   "mimetype": "text/x-python",
   "name": "python",
   "nbconvert_exporter": "python",
   "pygments_lexer": "ipython3",
   "version": "3.6.10"
  }
 },
 "nbformat": 4,
 "nbformat_minor": 5
}
